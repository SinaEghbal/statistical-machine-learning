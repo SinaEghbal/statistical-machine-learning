{
 "cells": [
  {
   "cell_type": "markdown",
   "metadata": {
    "deletable": true,
    "editable": true
   },
   "source": [
    "# Inference and Reasoning with Bayesian Networks"
   ]
  },
  {
   "cell_type": "markdown",
   "metadata": {
    "deletable": true,
    "editable": true
   },
   "source": [
    "###### COMP4670/8600 - Introduction to Statistical Machine Learning - Assignment 2"
   ]
  },
  {
   "cell_type": "markdown",
   "metadata": {
    "deletable": true,
    "editable": true
   },
   "source": [
    "Name: Sina Eghbal\n",
    "\n",
    "Student ID: u5544352"
   ]
  },
  {
   "cell_type": "markdown",
   "metadata": {
    "deletable": true,
    "editable": true
   },
   "source": [
    "## Instructions\n",
    "\n",
    "|             |Notes|\n",
    "|:------------|:--|\n",
    "|Maximum marks| 19|\n",
    "|Weight|19% of final grade|\n",
    "|Format| Complete this ipython notebook. Do not forget to fill in your name and student ID above|\n",
    "|Submission mode| Use [wattle](https://wattle.anu.edu.au/)|\n",
    "|Formulas| All formulas which you derive need to be explained unless you use very common mathematical facts. Picture yourself as explaining your arguments to somebody who is just learning about your assignment. With other words, do not assume that the person marking your assignment knows all the background and therefore you can just write down the formulas without any explanation. It is your task to convince the reader that you know what you are doing when you derive an argument. Typeset all formulas in $\\LaTeX$.|\n",
    "| Code quality | Python code should be well structured, use meaningful identifiers for variables and subroutines, and provide sufficient comments. Please refer to the examples given in the tutorials. |\n",
    "| Code efficiency | An efficient implementation of an algorithm uses fast subroutines provided by the language or additional libraries. For the purpose of implementing Machine Learning algorithms in this course, that means using the appropriate data structures provided by Python and in numpy/scipy (e.g. Linear Algebra and random generators). |\n",
    "| Cooperation | All assignments must be done individually. Cheating and plagiarism will be dealt with in accordance with University procedures (please see the ANU policies on [Academic Honesty and Plagiarism](http://academichonesty.anu.edu.au)). Hence, for example, code for programming assignments must not be developed in groups, nor should code be shared. You are encouraged to broadly discuss ideas, approaches and techniques with a few other students, but not at a level of detail where specific solutions or implementation issues are described by anyone. If you choose to consult with other students, you will include the names of your discussion partners for each solution. If you have any questions on this, please ask the lecturer before you act. |"
   ]
  },
  {
   "cell_type": "markdown",
   "metadata": {
    "deletable": true,
    "editable": true
   },
   "source": [
    "$\\newcommand{\\dotprod}[2]{\\left\\langle #1, #2 \\right\\rangle}$\n",
    "$\\newcommand{\\onevec}{\\mathbb{1}}$\n",
    "\n",
    "Setting up the environment (there is some hidden latex which needs to be run in this cell)."
   ]
  },
  {
   "cell_type": "code",
   "execution_count": 1,
   "metadata": {
    "collapsed": false,
    "deletable": true,
    "editable": true
   },
   "outputs": [],
   "source": [
    "import itertools, copy\n",
    "import matplotlib.pyplot as plt\n",
    "import numpy as np\n",
    "from IPython.display import display, Image\n",
    "from collections import OrderedDict\n",
    "\n",
    "%matplotlib inline"
   ]
  },
  {
   "cell_type": "markdown",
   "metadata": {
    "deletable": true,
    "editable": true
   },
   "source": [
    "## Part 1: Graphical Models\n",
    "\n",
    "### Problem setting\n",
    "\n",
    "We are interested to predict the outcome of the election in an imaginary country, called Under Some Assumptions (USA). There are four candidates for whom the citizens can **Vote** for: Bernie, Donald, Hillary, and Ted. The citizens live in four **Region**s: north, south, east and west. We have general demographic information about the people, namely: **Gender** (male, female) and **Hand**edness (right, left). Based on surveys done by an external company, we believe that the **Region** and **Gender** affects whether the people use their **Jacket**s full time, part time or never. Surprisingly, the company told us that the **Age** of their shoes (new, worn, old) depends on how often they wear their **Jacket**s. Furthermore, the **Gender** and their preferred **Hand** affects the **Colour** of their hat (white, black). Finally, surveys say that the citizens will **Vote** based on their **Region**, **Age** of their shoes and **Colour** of their hats.\n",
    "\n",
    "The directed graphical model is depicted below:"
   ]
  },
  {
   "cell_type": "code",
   "execution_count": 2,
   "metadata": {
    "collapsed": false,
    "deletable": true,
    "editable": true
   },
   "outputs": [
    {
     "data": {
      "text/html": [
       "<img src=\"https://machlearn.gitlab.io/isml2017/assignments/election_model.png\"/>"
      ],
      "text/plain": [
       "<IPython.core.display.Image object>"
      ]
     },
     "execution_count": 2,
     "metadata": {},
     "output_type": "execute_result"
    }
   ],
   "source": [
    "Image(url=\"https://machlearn.gitlab.io/isml2017/assignments/election_model.png\")"
   ]
  },
  {
   "cell_type": "markdown",
   "metadata": {
    "deletable": true,
    "editable": true
   },
   "source": [
    "### Conditional probability tables\n",
    "\n",
    "After paying the survey firm some more money, they provided the following conditional probability tables.\n",
    "\n",
    "|$p(R)$ | R=n | R=s | R=e | R=w |\n",
    "|:-----:|:--:|:--:|:--:|:--:|\n",
    "|marginal| 0.2 | 0.1 | 0.5 | 0.2 |\n",
    "\n",
    "|$p(G)$ | G=m | G=f |\n",
    "|:-----:|:--:|:--:|\n",
    "|marginal| 0.3 | 0.7 |\n",
    "\n",
    "|$p(H)$ | H=r | H=l |\n",
    "|:-----:|:--:|:--:|\n",
    "|marginal| 0.9 | 0.1 |\n",
    "\n",
    "| $p(J|R,G)$ | R=n,G=m | R=n,G=f | R=s,G=m | R=s,G=f | R=e,G=m | R=e,G=f | R=w,G=m | R=w,G=f |\n",
    "|:-----:|:--:|:--:|:--:|:--:|:--:|:--:|:--:|:--:|\n",
    "|**J**=full $\\quad$  |0.9 |0.8 |0.1 | 0.3 |0.4 |0.01| 0.02 | 0.2  |\n",
    "|**J**=part $\\quad$  |0.08|0.17|0.03| 0.35|0.05|0.01| 0.2  | 0.08 |\n",
    "|**J**=never $\\quad$ |0.02|0.03|0.87| 0.35|0.55|0.98| 0.78 | 0.72 |\n",
    "\n",
    "| $p(A|J)$ | J=full | J=part | J=never |\n",
    "|:-----:|:--:|:--:|:--:|\n",
    "|**A**=new  |0.01|0.96|0.3|\n",
    "|**A**=worn |0.98|0.03|0.5|\n",
    "|**A**=old  |0.01|0.01|0.2|\n",
    "\n",
    "| $p(C|G,H)$ | G=m,H=r | G=m,H=l | G=f,H=r | G=f,H=l |\n",
    "|:-----:|:--:|:--:|:--:|:--:|\n",
    "|**C**=black $\\quad$ |0.9 |0.83 |0.17 | 0.3 |\n",
    "|**C**=white $\\quad$ |0.1 |0.17|0.83 | 0.7 |\n",
    "\n",
    "The final conditional probability table is given by the matrix below. The order of the rows and columns are also given below."
   ]
  },
  {
   "cell_type": "code",
   "execution_count": 3,
   "metadata": {
    "collapsed": true,
    "deletable": true,
    "editable": true
   },
   "outputs": [],
   "source": [
    "vote_column_names = ['north,new,black', 'north,new,white', 'north,worn,black', 'north,worn,white', \n",
    "                'north,old,black', 'north,old,white', 'south,new,black', 'south,new,white', \n",
    "                'south,worn,black', 'south,worn,white', 'south,old,black', 'south,old,white', \n",
    "                'east,new,black', 'east,new,white', 'east,worn,black', 'east,worn,white', \n",
    "                'east,old,black', 'east,old,white', 'west,new,black', 'west,new,white', \n",
    "                'west,worn,black', 'west,worn,white', 'west,old,black', 'west,old,white']\n",
    "\n",
    "vote_outcomes = ('bernie','donald','hillary','ted')\n",
    "\n",
    "vote_pmf_array = np.array(\n",
    "        [\n",
    "            [0.1,0.1,0.4,0.02,0.2,0.1,0.1,0.04,0.2,0.1,0.1 ,0.1,0.4 ,0.1 ,0.1,0.1 ,0.1,0.04,0.3,0.2,0.1,0.3,0.34,0.35],\n",
    "            [0.3,0.4,0.2,0.5 ,0.1,0.2,0.1,0.5 ,0.1,0.2,0.5 ,0.3,0.2 ,0.42,0.2,0.67,0.4,0.4 ,0.1,0.1,0.5,0.1,0.1 ,0.1],\n",
    "            [0.5,0.4,0.3,0.3 ,0.5,0.6,0.6,0.3 ,0.5,0.4,0.36,0.3,0.28,0.3 ,0.4,0.1 ,0.4,0.16,0.4,0.2,0.3,0.3,0.4 ,0.5],\n",
    "            [0.1,0.1,0.1,0.18,0.2,0.1,0.2,0.16,0.2,0.3,0.04,0.3,0.12,0.18,0.3,0.13,0.1,0.4 ,0.2,0.5,0.1,0.3,0.16,0.05],\n",
    "        ]\n",
    ")"
   ]
  },
  {
   "cell_type": "markdown",
   "metadata": {
    "deletable": true,
    "editable": true
   },
   "source": [
    "The 7 conditional probability tables in are encoded in python below. \n",
    "\n",
    "**Base your subsequent computations on these objects**."
   ]
  },
  {
   "cell_type": "code",
   "execution_count": 4,
   "metadata": {
    "collapsed": false,
    "deletable": true,
    "editable": true
   },
   "outputs": [],
   "source": [
    "class RandomVariable(object):\n",
    "    def __init__(self, name, parents, outcomes, pmf_array):\n",
    "        assert isinstance(name, str)\n",
    "        assert all(isinstance(_, RandomVariable) for _ in parents)\n",
    "        assert isinstance(outcomes, tuple)\n",
    "        assert all(isinstance(_, str) for _ in outcomes)\n",
    "        assert isinstance(parents, tuple)\n",
    "        assert isinstance(pmf_array, np.ndarray)\n",
    "        keys = tuple(map(tuple, itertools.product(*[_.outcomes for _ in parents])))\n",
    "        assert np.allclose(np.sum(pmf_array, 0), 1)\n",
    "        expected_shape = (len(outcomes), len(keys))\n",
    "        assert pmf_array.shape == expected_shape, (pmf_array.shape, expected_shape)\n",
    "        pmfs = {k: {outcome: probability for outcome, probability in zip(outcomes, probabilities)} \n",
    "                for k, probabilities in zip(keys, pmf_array.T)}\n",
    "        self.name, self.parents, self.outcomes, self.pmfs = name, parents, outcomes, pmfs\n",
    "    \n",
    "    def __str__ (self):\n",
    "        return self.name + \" -> \" + str(self.outcomes)\n",
    "    \n",
    "    def __repr__ (self):\n",
    "        return self.name + \" -> \" + str(self.outcomes)\n",
    "\n",
    "\n",
    "class BayesianNetwork(object):\n",
    "    def __init__(self, *random_variables):\n",
    "        assert all(isinstance(_, RandomVariable) for _ in random_variables)\n",
    "        self.random_variables = random_variables\n",
    "\n",
    "region_pmf_array = np.array([[0.2, 0.1, 0.5, 0.2]]).T\n",
    "region = RandomVariable(\n",
    "    name='region',\n",
    "    parents=tuple(),\n",
    "    outcomes=('north', 'south', 'east', 'west'), \n",
    "    pmf_array = region_pmf_array,\n",
    ")\n",
    "\n",
    "gender_pmf_array = np.array([[0.3, 0.7]]).T\n",
    "gender = RandomVariable(\n",
    "    name='gender',\n",
    "    parents=tuple(),\n",
    "    outcomes=('male', 'female'), \n",
    "    pmf_array = gender_pmf_array\n",
    ")\n",
    "\n",
    "hand_pmf_array = np.array([[0.9, 0.1]]).T\n",
    "hand = RandomVariable(\n",
    "    name='hand',\n",
    "    parents=tuple(),\n",
    "    outcomes=('left', 'right'), \n",
    "    pmf_array = hand_pmf_array\n",
    ")\n",
    "\n",
    "jacket_pmf_array = np.array(\n",
    "        [\n",
    "            [0.9,0.8,0.1,0.3,0.4,0.01,0.02,0.2],\n",
    "            [0.08,0.17,0.03,0.35,0.05,0.01,0.2,0.08],\n",
    "            [0.02,0.03,0.87,0.35,0.55,0.98,0.78,0.72],\n",
    "        ]\n",
    "    )\n",
    "jacket = RandomVariable(\n",
    "    name='jacket',\n",
    "    parents=(region, gender),\n",
    "    outcomes=('full', 'part', 'never'), \n",
    "    pmf_array = jacket_pmf_array\n",
    ")\n",
    "\n",
    "age_pmf_array = np.array(\n",
    "        [\n",
    "            [0.01,0.96,0.3],\n",
    "            [0.98,0.03,0.5],\n",
    "            [0.01,0.01,0.2],\n",
    "        ]\n",
    "    )\n",
    "age = RandomVariable(\n",
    "    name='age',\n",
    "    parents=(jacket, ),\n",
    "    outcomes=('new', 'worn', 'old'), \n",
    "    pmf_array = age_pmf_array\n",
    ")\n",
    "\n",
    "colour_pmf_array = np.array(\n",
    "        [\n",
    "            [0.9,0.83,0.17,0.3],\n",
    "            [0.1,0.17,0.83,0.7],\n",
    "        ]\n",
    "    )\n",
    "colour = RandomVariable(\n",
    "    name='colour',\n",
    "    parents=(gender, hand),\n",
    "    outcomes=('black', 'white'),\n",
    "    pmf_array = colour_pmf_array\n",
    ")\n",
    "\n",
    "vote = RandomVariable(\n",
    "    name='vote',\n",
    "    parents=(region, age, colour),\n",
    "    outcomes=vote_outcomes,\n",
    "    pmf_array = vote_pmf_array\n",
    ")\n",
    "\n",
    "\n",
    "election_model = BayesianNetwork(region, gender, hand, jacket, age, colour, vote)"
   ]
  },
  {
   "cell_type": "markdown",
   "metadata": {
    "deletable": true,
    "editable": true
   },
   "source": [
    "### 1A (1 mark) Joint distribution of a subset\n",
    "\n",
    "- Compute the joint distribution of **Jacket**, **Region** and **Gender**. Print in a tab separated format the resulting distribution."
   ]
  },
  {
   "cell_type": "markdown",
   "metadata": {
    "deletable": true,
    "editable": true
   },
   "source": [
    "> We are computing the joint distribution simply by using the product rule"
   ]
  },
  {
   "cell_type": "code",
   "execution_count": 5,
   "metadata": {
    "collapsed": false,
    "deletable": true,
    "editable": true
   },
   "outputs": [
    {
     "name": "stdout",
     "output_type": "stream",
     "text": [
      "P (J , r , g)\n",
      "\t ('north', 'male') ('north', 'female') ('south', 'male') ('south', 'female') ('east', 'male') ('east', 'female') ('west', 'male') ('west', 'female')\n",
      "J = full\t 0.054       0.112       0.003       0.021       0.06        0.0035      0.0012      0.028      \n",
      "J = part\t 0.0048      0.0238      0.0009      0.0245      0.0075      0.0035      0.012       0.0112     \n",
      "J = never\t 0.0012      0.0042      0.0261      0.0245      0.0825      0.343       0.0468      0.1008     \n"
     ]
    }
   ],
   "source": [
    "## We are computing the joint distribution simply by using the product rule\n",
    "p_j_r_g = np.multiply (np.hstack (region_pmf_array.dot (gender_pmf_array.T)), jacket_pmf_array)\n",
    "# print (p_j_r_g)\n",
    "print ('P (J , r , g)')\n",
    "print ('\\t','%-11s %-11s %-11s %-11s %-11s %-11s %-11s %-11s'%(tuple (itertools.product(region.outcomes, gender.outcomes))))\n",
    "print ('J = full\\t','%-11s %-11s %-11s %-11s %-11s %-11s %-11s %-11s'%(tuple (p_j_r_g[0])))\n",
    "print ('J = part\\t', '%-11s %-11s %-11s %-11s %-11s %-11s %-11s %-11s'%(tuple (p_j_r_g[1])))\n",
    "print ('J = never\\t', '%-11s %-11s %-11s %-11s %-11s %-11s %-11s %-11s'%(tuple (p_j_r_g[2])))"
   ]
  },
  {
   "cell_type": "markdown",
   "metadata": {
    "deletable": true,
    "editable": true
   },
   "source": [
    "### 1B1 (2 marks) Variable Ordering\n",
    "\n",
    "1. Implement a function which determines an appropriate ordering of the variables for use in the following scheme:\n",
    "    - For the first node R, draw a sample from p(R).\n",
    "    - For each subsequent node, draw a sample from the conditional distribution $p(X \\,|\\, \\text{parents}(X))$ where $\\text{parents}(X)$ are the parents of the variable $X$ in the graphical model.\n",
    "- Use your function to compute such an ordering and print the result in a human friendly format."
   ]
  },
  {
   "cell_type": "code",
   "execution_count": 6,
   "metadata": {
    "collapsed": false,
    "deletable": true,
    "editable": true
   },
   "outputs": [],
   "source": [
    "def order (network):\n",
    "    ## This function calculates a partial order for bayesian networks\n",
    "    ## returns list of random variables\n",
    "    ## Returns None if there's a cycle in the network\n",
    "    ordered_vars = list ()\n",
    "    traversed = set ()\n",
    "    while not len (traversed) == len (network.random_variables):\n",
    "        old_length = len (traversed)\n",
    "        for node in network.random_variables:\n",
    "            if (node.parents == tuple() or set (node.parents).issubset(traversed)) and node not in traversed:\n",
    "                traversed.add (node)\n",
    "                ordered_vars.append (node)\n",
    "        # If graph is cyclic return \"None\"\n",
    "        if old_length == len (traversed) and not len (traversed) == len (network.random_variables):\n",
    "            return None\n",
    "    return ordered_vars\n",
    "\n",
    "# Now let's calculate the order for our 'election_model' network.\n",
    "o_election = order (election_model)"
   ]
  },
  {
   "cell_type": "code",
   "execution_count": 7,
   "metadata": {
    "collapsed": false,
    "deletable": true,
    "editable": true
   },
   "outputs": [
    {
     "name": "stdout",
     "output_type": "stream",
     "text": [
      "region -> ('north', 'south', 'east', 'west')\n",
      "gender -> ('male', 'female')\n",
      "hand -> ('left', 'right')\n",
      "jacket -> ('full', 'part', 'never')\n",
      "age -> ('new', 'worn', 'old')\n",
      "colour -> ('black', 'white')\n",
      "vote -> ('bernie', 'donald', 'hillary', 'ted')\n"
     ]
    }
   ],
   "source": [
    "# Let's print our random variables in the determined order\n",
    "st = \"\\n\".join(map (str, o_election))\n",
    "print (st)"
   ]
  },
  {
   "cell_type": "markdown",
   "metadata": {
    "deletable": true,
    "editable": true
   },
   "source": [
    "### 1B2 (2 marks) Sampling\n",
    "\n",
    "1. Given the ordering you have determined above, implement the sampler described in the previous question. If you were unable to compute the ordering in the previous question, use ``ordering = (hand, region, gender, colour, jacket, age, vote)``.\n",
    "2. Draw a single sample and print the result in a human friendly format."
   ]
  },
  {
   "cell_type": "code",
   "execution_count": 8,
   "metadata": {
    "collapsed": false,
    "deletable": true,
    "editable": true
   },
   "outputs": [],
   "source": [
    "def sampler (ordered_network):\n",
    "    ## This function accepts an ordered network (i.e. list of random variables), and returns a sample from our network\n",
    "    ## 'samples' stores the sample for each node in our network\n",
    "    samples = dict ()\n",
    "    for node in ordered_network.random_variables:\n",
    "        parent_names = [c.name for c in node.parents]\n",
    "        parent_values = tuple ([samples [index] for index in parent_names])\n",
    "        current_choice = np.random.choice (a = list (node.pmfs [parent_values].keys()), \n",
    "                                           p = list (node.pmfs [parent_values].values ()), size = 1)[0]\n",
    "        samples [node.name] = current_choice\n",
    "    return samples"
   ]
  },
  {
   "cell_type": "code",
   "execution_count": 9,
   "metadata": {
    "collapsed": false,
    "deletable": true,
    "editable": true
   },
   "outputs": [
    {
     "name": "stdout",
     "output_type": "stream",
     "text": [
      "{'age': 'new', 'vote': 'donald', 'colour': 'white', 'hand': 'right', 'region': 'north', 'jacket': 'part', 'gender': 'male'}\n"
     ]
    }
   ],
   "source": [
    "## Let's draw a sample from our network\n",
    "ordered_election = BayesianNetwork (*o_election)\n",
    "sample = sampler (ordered_election)\n",
    "print (sample)"
   ]
  },
  {
   "cell_type": "markdown",
   "metadata": {
    "deletable": true,
    "editable": true
   },
   "source": [
    "### 1B3 (2 marks) Marginals\n",
    "\n",
    "1. Calculate (and show in LaTeX) the marginal distribution for **Jacket**.\n",
    "- Implement a function which computes the marginal distribution of each variable. It should make use of the ordering used by your sampler.\n",
    "- Implement a function which takes a list of samples the model and computes the empirical marginal distribution of each variable.\n",
    "- Plot the theoretical and approximate marginals which you obtain along with the absolute percent error between the two, in the format below:"
   ]
  },
  {
   "cell_type": "raw",
   "metadata": {
    "deletable": true,
    "editable": true
   },
   "source": [
    "region\n",
    "outcome\texact\tapprox\terror (%)\n",
    "north\t0.20\t0.20\t0.4\n",
    "south\t0.10\t0.10\t0.1\n",
    "east\t0.50\t0.50\t0.4\n",
    "west\t0.20\t0.20\t0.6\n",
    "\n",
    "gender\n",
    "outcome\texact\tapprox\terror (%)\n",
    "male\t0.30\t0.30\t0.1\n",
    "female\t0.70\t0.70\t0.0\n",
    "\n",
    "etc."
   ]
  },
  {
   "cell_type": "markdown",
   "metadata": {
    "deletable": true,
    "editable": true
   },
   "source": [
    "## 1.\n",
    "> By sum rule, we can write $p (J = x)$ as:\n",
    "\n",
    "$$ p (J=x) = \\sum_{G}\\sum_{R} p (J = x, R = r, G = g) $$\n",
    "\n",
    "> And by product rule we can extend the joint probability to the product of conditional and marginal probabilities given to us\n",
    "\n",
    "$$ p (J = x, R = r, G = g) = p (J = x | R = r, G = g) p(R = r|G = g) p (G = g)$$\n",
    "\n",
    "> So for each $x \\in outcomes (J)$ we have\n",
    "\n",
    "$$ p (J = x) = \\sum_{G}\\sum_{R}p (J = x | R = r, G = g) p(R = r|G = g) p (G = g)$$"
   ]
  },
  {
   "cell_type": "markdown",
   "metadata": {
    "deletable": true,
    "editable": true
   },
   "source": [
    "> To do so, we use the previously calculated joing probability and marginalise $G$ and $R$ by summing over the rows."
   ]
  },
  {
   "cell_type": "code",
   "execution_count": 10,
   "metadata": {
    "collapsed": false,
    "deletable": true,
    "editable": true
   },
   "outputs": [
    {
     "name": "stdout",
     "output_type": "stream",
     "text": [
      "P of jacket\n",
      "\n",
      "full                 part                 never               \n",
      "0.28269999999999995  0.08819999999999999  0.6291              \n"
     ]
    }
   ],
   "source": [
    "## To do so\n",
    "p_jacket = np.sum (p_j_r_g, axis=1)\n",
    "print ('P of jacket\\n')\n",
    "print ('%-20s %-20s %-20s'%('full', 'part', 'never'))\n",
    "print ('%-20s %-20s %-20s'% tuple(p_jacket.tolist ()))"
   ]
  },
  {
   "cell_type": "markdown",
   "metadata": {
    "deletable": true,
    "editable": true
   },
   "source": [
    "### 2\n",
    "Marginal distribution of each variable"
   ]
  },
  {
   "cell_type": "code",
   "execution_count": 11,
   "metadata": {
    "collapsed": false,
    "deletable": true,
    "editable": true
   },
   "outputs": [],
   "source": [
    "# def calculate_probabilities (region, jacket, gender, color, hand, age, vote):\n",
    "def calculate_probabilities (network, joint_prob_dict):\n",
    "    ## This function calculates the probability for a sample from all our random variables\n",
    "    ## Given the network and a dictionary of the samples for each probability\n",
    "    probability = 1\n",
    "    for rv in network.random_variables:\n",
    "        probability *= rv.pmfs [tuple ([joint_prob_dict[i.name] for i in rv.parents])][joint_prob_dict [rv.name]]\n",
    "    return probability\n",
    "\n",
    "def calculate_marginal_outcome (outcome, network):\n",
    "    ## Get all the outcomes, all the names and all the variables\n",
    "    variables_outcome = {var.name:var.outcomes for var in network.random_variables}\n",
    "    variable_names = [var.name for var in network.random_variables]\n",
    "\n",
    "    ## List of lists\n",
    "    ## It contains a list for each random variable which contains a list of the possible outcomes\n",
    "    ## Basically same as 'variable_outcomes', except that it's a list and therefore is ordered/\n",
    "    list_of_variable_outcomes = [variables_outcome [key] for key in variable_names]\n",
    "    ## All possible combinations of outcomes\n",
    "    variables = itertools.product (*list_of_variable_outcomes)\n",
    "    ## We've passed an outcome, and we're refining our variables to get everything in it that includes 'outcome' in a list\n",
    "    variable_list = [var for var in variables if outcome in var]\n",
    "    # We start from 0 and sum over whatever we're marginalising\n",
    "    marginal= 0\n",
    "    for var in variable_list:\n",
    "        ## Zip all the variables and values into a dict and add it to the marginal probability\n",
    "        variable_dict = dict (zip (variable_names, var))\n",
    "        marginal += calculate_probabilities (network, variable_dict)\n",
    "    return marginal\n",
    "\n",
    "def calculate_marginal_variable (variable, ordered_network):\n",
    "    ## Given a random variable, finds the probabilities for all the possible outcomes of that probability\n",
    "    return {outcome : calculate_marginal_outcome (outcome, ordered_network) for outcome in variable.outcomes}\n",
    "\n",
    "def calculate_marginal_network (ordered_network):\n",
    "    ## Create a dictionaty with all the random variables in the network as keys and \n",
    "    ## a dict storing marginal probabilities for each outcome\n",
    "    return {rv.name : calculate_marginal_variable (rv, ordered_network) for rv in ordered_network.random_variables}\n",
    "\n"
   ]
  },
  {
   "cell_type": "code",
   "execution_count": 12,
   "metadata": {
    "collapsed": false,
    "deletable": true,
    "editable": true,
    "scrolled": false
   },
   "outputs": [
    {
     "name": "stdout",
     "output_type": "stream",
     "text": [
      "Marginal probabilities => theoretical\n",
      "age : \n",
      "new :  0.276229  \tworn :  0.594242  \told :  0.129529  \t\n",
      "\n",
      "vote : \n",
      "bernie :  0.15481761532  \tted :  0.20465624916  \thillary :  0.29550527822  \tdonald :  0.3450208573  \t\n",
      "\n",
      "colour : \n",
      "black :  0.396  \twhite :  0.604  \t\n",
      "\n",
      "hand : \n",
      "right :  0.1  \tleft :  0.9  \t\n",
      "\n",
      "region : \n",
      "south :  0.1  \teast :  0.5  \twest :  0.2  \tnorth :  0.2  \t\n",
      "\n",
      "jacket : \n",
      "part :  0.0882  \tfull :  0.2827  \tnever :  0.6291  \t\n",
      "\n",
      "gender : \n",
      "female :  0.7  \tmale :  0.3  \t\n",
      "\n"
     ]
    }
   ],
   "source": [
    "# Call the function, let's print it in a human readable but ugly format\n",
    "print ('Marginal probabilities => theoretical')\n",
    "marginal = calculate_marginal_network (ordered_election)\n",
    "for rv in marginal.keys ():\n",
    "    print (rv, ': ')\n",
    "    for marg in marginal [rv].keys ():\n",
    "        print (marg,': ', marginal [rv][marg], ' \\t', end='')\n",
    "#     print ((marginal [rv]))\n",
    "    print ('\\n')\n",
    "        "
   ]
  },
  {
   "cell_type": "code",
   "execution_count": 13,
   "metadata": {
    "collapsed": false,
    "deletable": true,
    "editable": true
   },
   "outputs": [],
   "source": [
    "def calculate_empirical_distribution (network, samples):\n",
    "    ## Get the names of random variables (from our ordered network)\n",
    "    rv_names = [rv.name for rv in network.random_variables]\n",
    "    ## And the outcomes\n",
    "    rv_outcomes = {rv.name : rv.outcomes for rv in network.random_variables}\n",
    "    marginal = dict ()\n",
    "    n = len (samples)\n",
    "    ## Go through all random variables\n",
    "    for rv in rv_names:\n",
    "        ## Create empty dicts for each rv if doesn't already exist\n",
    "        if rv not in marginal:\n",
    "            marginal [rv] = dict ()\n",
    "        for outcome in rv_outcomes [rv]:\n",
    "            ## Add key with value 0 to the dictionary for every possible outcome of that RV\n",
    "            marginal [rv][outcome] = 0\n",
    "    for sample in samples:\n",
    "        for rv in rv_names:\n",
    "            ## Increment the occurence of that outcome by one\n",
    "            marginal [rv][sample [rv]] += 1\n",
    "    ## Go through all random variables and divide each of them by the number of samples\n",
    "    for rv in rv_names:\n",
    "        for key in marginal [rv].keys ():\n",
    "            ## Divide everything by total number of samples\n",
    "            marginal [rv][key] /= n\n",
    "    return marginal"
   ]
  },
  {
   "cell_type": "code",
   "execution_count": 14,
   "metadata": {
    "collapsed": false,
    "deletable": true,
    "editable": true
   },
   "outputs": [],
   "source": [
    "my_samples = list ()\n",
    "for i in range (100000):\n",
    "    my_samples.append (sampler (election_model))\n",
    "\n",
    "marginal_empirical = calculate_empirical_distribution (election_model, my_samples)"
   ]
  },
  {
   "cell_type": "code",
   "execution_count": 15,
   "metadata": {
    "collapsed": false,
    "deletable": true,
    "editable": true
   },
   "outputs": [
    {
     "name": "stdout",
     "output_type": "stream",
     "text": [
      "Marginal probabilities => empirical\n",
      "\n",
      "age\n",
      "new :  0.27535 \tworn :  0.59384 \told :  0.13081 \t\n",
      "\n",
      "vote\n",
      "bernie :  0.15512 \tted :  0.20486 \thillary :  0.296 \tdonald :  0.34402 \t\n",
      "\n",
      "colour\n",
      "black :  0.39588 \twhite :  0.60412 \t\n",
      "\n",
      "hand\n",
      "right :  0.09991 \tleft :  0.90009 \t\n",
      "\n",
      "region\n",
      "south :  0.09932 \teast :  0.50285 \twest :  0.19919 \tnorth :  0.19864 \t\n",
      "\n",
      "jacket\n",
      "part :  0.08774 \tfull :  0.28199 \tnever :  0.63027 \t\n",
      "\n",
      "gender\n",
      "female :  0.70059 \tmale :  0.29941 \t\n",
      "\n"
     ]
    }
   ],
   "source": [
    "print ('Marginal probabilities => empirical\\n')\n",
    "for item in marginal_empirical.keys ():\n",
    "    print (item)\n",
    "    for outcome in marginal_empirical [item].keys ():\n",
    "        print (outcome, ': ', marginal_empirical [item][outcome], '\\t', end='')\n",
    "    print ('\\n')"
   ]
  },
  {
   "cell_type": "code",
   "execution_count": 16,
   "metadata": {
    "collapsed": false,
    "deletable": true,
    "editable": true
   },
   "outputs": [
    {
     "name": "stdout",
     "output_type": "stream",
     "text": [
      "region\n",
      "outcome              exact                approx               error (%)           \n",
      "south                0.1                  0.09932              0.68                \n",
      "east                 0.5                  0.50285              0.57                \n",
      "west                 0.2                  0.19919              0.405               \n",
      "north                0.2                  0.19864              0.68                \n",
      "\n",
      "gender\n",
      "outcome              exact                approx               error (%)           \n",
      "female               0.7                  0.70059              0.0842857142856     \n",
      "male                 0.3                  0.29941              0.196666666667      \n",
      "\n",
      "hand\n",
      "outcome              exact                approx               error (%)           \n",
      "right                0.1                  0.09991              0.0900000000001     \n",
      "left                 0.9                  0.90009              0.00999999999995    \n",
      "\n",
      "jacket\n",
      "outcome              exact                approx               error (%)           \n",
      "part                 0.0882               0.08774              0.521541950113      \n",
      "full                 0.2827               0.28199              0.251149628582      \n",
      "never                0.6291               0.63027              0.185979971388      \n",
      "\n",
      "age\n",
      "outcome              exact                approx               error (%)           \n",
      "new                  0.276229             0.27535              0.31821423529       \n",
      "worn                 0.594242             0.59384              0.0676492068887     \n",
      "old                  0.129529             0.13081              0.988967721514      \n",
      "\n",
      "colour\n",
      "outcome              exact                approx               error (%)           \n",
      "black                0.396                0.39588              0.030303030303      \n",
      "white                0.604                0.60412              0.0198675496688     \n",
      "\n",
      "vote\n",
      "outcome              exact                approx               error (%)           \n",
      "bernie               0.15481761532        0.15512              0.195316714687      \n",
      "ted                  0.20465624916        0.20486              0.099557595156      \n",
      "hillary              0.29550527822        0.296                0.167415547695      \n",
      "donald               0.3450208573         0.34402              0.290086027793      \n",
      "\n"
     ]
    }
   ],
   "source": [
    "for rv in election_model.random_variables:\n",
    "    emp = marginal_empirical [rv.name]\n",
    "#     print (marginal [rv.name])\n",
    "    marg = marginal [rv.name]\n",
    "    print (rv.name)\n",
    "    print ('%-20s %-20s %-20s %-20s' %('outcome','exact', 'approx', 'error (%)'))\n",
    "    for outcome in emp.keys ():\n",
    "        print ('%-20s %-20s %-20s %-20s' %(outcome, marg [outcome], emp [outcome], np.abs (emp [outcome] - marg [outcome])*100/marg [outcome]))\n",
    "    print()\n",
    "               "
   ]
  },
  {
   "cell_type": "markdown",
   "metadata": {
    "deletable": true,
    "editable": true
   },
   "source": [
    "> The order for P (Hand) is the reverse of what is in the tables. Here, I'm assuming the values used to initialise the random variables are correct."
   ]
  },
  {
   "cell_type": "markdown",
   "metadata": {
    "deletable": true,
    "editable": true
   },
   "source": [
    "### 1B4 (1 mark) Easy conditional probabilities\n",
    "\n",
    "Compute $p(X \\,|\\, G=\\text{female})$ for all $X$ other than $G$,\n",
    "1. Approximately, using your sampler\n",
    "- Exactly, using your marginal calculating function from the previous question. Hint: what happens if you set  $p(G=\\text{female})=1$ in your model?\n",
    "- Plot the results side by side in the same format as the previous question.\n",
    "- State for which variables other than $G$ the theoretical scheme above can be used to compute such conditionals, and why."
   ]
  },
  {
   "cell_type": "code",
   "execution_count": 17,
   "metadata": {
    "collapsed": false,
    "deletable": true,
    "editable": true
   },
   "outputs": [],
   "source": [
    "def p_x_given_female (samples):\n",
    "    ## We get bunch of samples, if they're female we look at them and\n",
    "    ## Count the number of occurance of each outcome\n",
    "    marginal = dict ()\n",
    "    n_female = 0\n",
    "    for sample in samples:\n",
    "        if sample ['gender'] == 'female':\n",
    "            n_female += 1\n",
    "            for rv in sample:\n",
    "                if rv not in marginal:\n",
    "                    marginal [rv] = dict ()\n",
    "                if rv != 'gender':\n",
    "                    if sample [rv] not in marginal [rv]:\n",
    "                        marginal [rv][sample [rv]] = 0\n",
    "                    marginal [rv][sample [rv]] += 1\n",
    "                else:\n",
    "                    marginal [rv]['male'] = 0\n",
    "                    marginal [rv]['female'] = n_female\n",
    "    ## And in the end we divide everything by total number of samples where Gender = female\n",
    "    for rv in marginal.keys ():\n",
    "        for outcome in marginal [rv].keys ():\n",
    "            marginal [rv][outcome] /= n_female\n",
    "    return marginal\n",
    "\n",
    "my_samples = list ()\n",
    "for i in range (200):\n",
    "    my_samples.append (sampler (election_model))\n",
    "\n",
    "x_female_exp = p_x_given_female (my_samples)\n"
   ]
  },
  {
   "cell_type": "code",
   "execution_count": 18,
   "metadata": {
    "collapsed": false,
    "deletable": true,
    "editable": true
   },
   "outputs": [],
   "source": [
    "## Same thing but not with sampling. Exact calculation\n",
    "network_female_1 = copy.deepcopy (election_model)\n",
    "for rv in network_female_1.random_variables:\n",
    "    if rv.name == 'gender':\n",
    "        rv.pmfs [()] = {'male':0, 'female':1}\n",
    "        break\n",
    "marginal_f_1 = calculate_marginal_network (network_female_1)\n"
   ]
  },
  {
   "cell_type": "code",
   "execution_count": 19,
   "metadata": {
    "collapsed": false,
    "deletable": true,
    "editable": true
   },
   "outputs": [
    {
     "name": "stdout",
     "output_type": "stream",
     "text": [
      "region\n",
      "outcome              exact                approx               error (%)           \n",
      "north                0.2                  0.2391304347826087   0.2                 \n",
      "south                0.1                  0.09420289855072464  0.1                 \n",
      "east                 0.5                  0.5217391304347826   0.5                 \n",
      "west                 0.2                  0.14492753623188406  0.2                 \n",
      "\n",
      "gender\n",
      "outcome              exact                approx               error (%)           \n",
      "male                 0.0                  0.0                  0.0                 \n",
      "female               1.0                  1.0                  1.0                 \n",
      "\n",
      "hand\n",
      "outcome              exact                approx               error (%)           \n",
      "left                 0.9                  0.8840579710144928   0.9                 \n",
      "right                0.1                  0.11594202898550725  0.1                 \n",
      "\n",
      "jacket\n",
      "outcome              exact                approx               error (%)           \n",
      "full                 0.235                0.2608695652173913   0.235               \n",
      "part                 0.09                 0.08695652173913043  0.09                \n",
      "never                0.675                0.6521739130434783   0.675               \n",
      "\n",
      "age\n",
      "outcome              exact                approx               error (%)           \n",
      "new                  0.29125              0.2898550724637681   0.29125             \n",
      "worn                 0.5705               0.5797101449275363   0.5705              \n",
      "old                  0.13825              0.13043478260869565  0.13825             \n",
      "\n",
      "colour\n",
      "outcome              exact                approx               error (%)           \n",
      "black                0.183                0.21014492753623187  0.183               \n",
      "white                0.817                0.7898550724637681   0.817               \n",
      "\n",
      "vote\n",
      "outcome              exact                approx               error (%)           \n",
      "bernie               0.133113736          0.14492753623188406  0.133113736         \n",
      "donald               0.3872506075         0.43478260869565216  0.3872506075        \n",
      "hillary              0.268675286          0.26811594202898553  0.268675286         \n",
      "ted                  0.2109603705         0.15217391304347827  0.2109603705        \n",
      "\n"
     ]
    }
   ],
   "source": [
    "for rv in network_female_1.random_variables:\n",
    "    print (rv.name)\n",
    "    print ('%-20s %-20s %-20s %-20s' %('outcome','exact', 'approx', 'error (%)'))\n",
    "    for outcome in rv.outcomes:\n",
    "        print ('%-20s %-20s %-20s %-20s' %(outcome, marginal_f_1 [rv.name][outcome], x_female_exp [rv.name][outcome],\\\n",
    "                                          np.abs (marginal_f_1 [rv.name][outcome]- x_female_exp [rv.name][outcome])*100/\\\n",
    "                                          1 if marginal_f_1[rv.name][outcome] == 0 else marginal_f_1[rv.name][outcome]))\n",
    "    print ()"
   ]
  },
  {
   "cell_type": "markdown",
   "metadata": {
    "deletable": true,
    "editable": true
   },
   "source": [
    ">  The theoritical scheme above can be used for all variables that have no parents in our graphical model. i.e. variables that are conditionaly independent from other variables. Hence, in this particular example other than $G$, we can apply the above scheme to $Region$, and $Hand$. This is because we can simply change their probabilities to imply the given condition while for all other nodes our probabilities depend on other variables."
   ]
  },
  {
   "cell_type": "markdown",
   "metadata": {
    "deletable": true,
    "editable": true
   },
   "source": [
    "### 1B5 (3 marks) General conditional probabilities\n",
    "\n",
    "1. Write down the expression of the joint probability $p(R,G,H,J,A,C,V)$ in terms of the conditional probabilities in the graphical model.\n",
    "- Derive $p(G = male \\,|\\, V = Donald)$ in terms of the conditional probabilities of the graphical model.\n",
    "- Compute and display in a human friendly format the conditional distributions $p(G=g \\,|\\, V=v)$ for all genders $g$ and votes $v$, by naively marginalising the other variables (other than $G$ and $V$, that is)."
   ]
  },
  {
   "cell_type": "markdown",
   "metadata": {
    "collapsed": true,
    "deletable": true,
    "editable": true
   },
   "source": [
    "### Solution description"
   ]
  },
  {
   "cell_type": "markdown",
   "metadata": {
    "collapsed": false,
    "deletable": true,
    "editable": true
   },
   "source": [
    "## 1.\n",
    "> From our graphical model, we know that:\n",
    "\n",
    "$$ p (V, A, J, R, G, C, H) = p (V | R, A, C)\\times p (R) \\times p (A | J) \\times p (J | R, G) \\times p (C | G, H) \\times p (G) \\times p (H)$$"
   ]
  },
  {
   "cell_type": "markdown",
   "metadata": {
    "deletable": true,
    "editable": true
   },
   "source": [
    "## 2.\n",
    "> In order to calculate $p (G = male | V = Donald)$ we first write it down as the following:\n",
    "\n",
    "$$ \\frac {p (G = male, V = Donald)}{p (V = Donald)}$$"
   ]
  },
  {
   "cell_type": "markdown",
   "metadata": {
    "deletable": true,
    "editable": true
   },
   "source": [
    "> We can then calculate the numerator of the above formula by marginalising out the variables that we do not need.\n",
    "\n",
    "$$ \\sum_{R, H, J, C, A} p (V = Donald, A, J, R, G = male, C, H) = \\sum_{R, H, J, C, A} p (V = Donald | R, A, C)\\times p (R) \\times p (A | J) \\times p (J | R, G = male) \\times p (C | G = male, H) \\times p (G = male) \\times p (H)$$"
   ]
  },
  {
   "cell_type": "markdown",
   "metadata": {
    "deletable": true,
    "editable": true
   },
   "source": [
    "> And to save some calculation, we write the above as\n",
    "\n",
    "$$ p (G = male)\\sum_{R, H, J, C, A} p (V = Donald | R, A, C)\\times p (R) \\times p (A | J) \\times p (J | R, G = male) \\times p (C | G = male, H) \\times p (H)$$"
   ]
  },
  {
   "cell_type": "markdown",
   "metadata": {
    "deletable": true,
    "editable": true
   },
   "source": [
    "> So we write $p (G = male| V = Donald)$ as\n",
    "\n",
    "$$ \\frac{p (G = male)\\sum_{R, H, J, C, A} p (V = Donald | R, A, C)\\times p (R) \\times p (A | J) \\times p (J | R, G = male) \\times p (C | G = male, H) \\times p (H)}{p (V = Donald)}$$"
   ]
  },
  {
   "cell_type": "markdown",
   "metadata": {
    "deletable": true,
    "editable": true
   },
   "source": [
    "> To save computation we can push the sums in\n",
    "\n",
    "$$ \\frac{p (G = male)\\sum_H(\\sum_{C, A}(\\sum_R(\\sum_J p (J | R, G = male)\\times p (A | J))\\times p (C | G = male, H))\\times p (R) \\times p (V = Donald | R, A, C))\\times p (H))}{}$$"
   ]
  },
  {
   "cell_type": "markdown",
   "metadata": {
    "deletable": true,
    "editable": true
   },
   "source": [
    "## 3"
   ]
  },
  {
   "cell_type": "code",
   "execution_count": 20,
   "metadata": {
    "collapsed": false,
    "deletable": true,
    "editable": true
   },
   "outputs": [],
   "source": [
    "## Let's calculate p(G=g|V=v) for all genders and votes\n",
    "def calculate_p_g_given_v (network):\n",
    "    index = 0;\n",
    "    vote_index, gender_index, gender_outcomes = None, None, None;\n",
    "    for rv in network.random_variables:\n",
    "        if rv.name == 'vote':\n",
    "            vote_index = index\n",
    "        elif rv.name == 'gender':\n",
    "            gender_index = index\n",
    "            gender_outcomes = rv.outcomes\n",
    "        index += 1\n",
    "    ## Let's create a dictionary to store our probabilities and get the votes to use with bayes rule\n",
    "    probabilities = dict ()\n",
    "    p_vote = calculate_marginal_network (network)['vote']\n",
    "    \n",
    "    ## Create a new dictionary to store the new conditional variables\n",
    "    ordered_probabilities = dict ()\n",
    "    ## Go through all gender outcomes\n",
    "    for outcome in gender_outcomes:\n",
    "        p_gender = network.random_variables [gender_index].pmfs [()][outcome]\n",
    "        new_network = copy.deepcopy (network)\n",
    "        ## Now go through all vote outcomes\n",
    "        for pmf in new_network.random_variables [gender_index].pmfs.keys ():\n",
    "            ## Change the probabilities as we want to calculate conditional probabilities\n",
    "            for current_outcome in gender_outcomes:\n",
    "                ## If we're conditioning on a certain outcome, we want its probability to be 1\n",
    "                ## and otherwise we want it to be 0\n",
    "                new_network.random_variables [gender_index].pmfs [pmf][current_outcome] = 1 if outcome == current_outcome else 0\n",
    "                ## New network created given V = outcome\n",
    "        ## Using our new network, we want to marginalise a variable,\n",
    "        ## so we call the function that we had implemented for 1B3\n",
    "        probabilities [outcome] = calculate_marginal_variable (ordered_network = new_network, \n",
    "                                                               variable = new_network.random_variables [vote_index])\n",
    "        ## So far we have p (V | G)\n",
    "        ## Let's go through votes and apply bayes rule to get p (G | V)\n",
    "    \n",
    "        for key in p_vote.keys ():\n",
    "            probabilities [outcome][key] = probabilities [outcome][key]*p_gender/p_vote[key]\n",
    "            ## And assign in to the new duictionary with the right order\n",
    "            if key not in ordered_probabilities:\n",
    "                ordered_probabilities [key] = dict ()\n",
    "            ordered_probabilities [key][outcome] = probabilities [outcome][key]\n",
    "        \n",
    "    return ordered_probabilities\n",
    "\n",
    "g_given_v = calculate_p_g_given_v (ordered_election)"
   ]
  },
  {
   "cell_type": "code",
   "execution_count": 21,
   "metadata": {
    "collapsed": false,
    "deletable": true,
    "editable": true
   },
   "outputs": [
    {
     "name": "stdout",
     "output_type": "stream",
     "text": [
      "given  bernie\n",
      "probability of  {'female': 0.60186700981928043, 'male': 0.3981329901807199}\n",
      "\n",
      "given  ted\n",
      "probability of  {'female': 0.72156242458323416, 'male': 0.27843757541676628}\n",
      "\n",
      "given  hillary\n",
      "probability of  {'female': 0.63644447007130023, 'male': 0.36355552992870016}\n",
      "\n",
      "given  donald\n",
      "probability of  {'female': 0.78567837136378282, 'male': 0.21432162863621748}\n",
      "\n"
     ]
    }
   ],
   "source": [
    "# Given vote, probability of gender\n",
    "for item in g_given_v.keys ():\n",
    "    print ('given ', item)\n",
    "    print ('probability of ', g_given_v [item])\n",
    "    print ()"
   ]
  },
  {
   "cell_type": "markdown",
   "metadata": {
    "deletable": true,
    "editable": true
   },
   "source": [
    "### 1B6 (2 marks) Variable elimination\n",
    "\n",
    "Denote the graphical model consider thus far $\\mathcal{M}$.\n",
    "\n",
    "1. Derive $p(R,G,J,A,C,V)$ by marginalising over $H$ in $\\mathcal{M}$. \n",
    "- Describe how the structure (connectivity) of the new graphical model (call it $\\mathcal{M}_H$) over all variables other than $H$ changes after eliminating $H$ in this way.\n",
    "- Describe which conditional(s) in the new graphical model differ from the original model.\n",
    "- Encode the $\\mathcal{M}_H$ in python similarly to $\\mathcal{M}$. "
   ]
  },
  {
   "cell_type": "markdown",
   "metadata": {
    "collapsed": true,
    "deletable": true,
    "editable": true
   },
   "source": [
    "### 1\n",
    "$$ p (R, G, J, A, C, V) = \\sum_{H}p (R, G, H, J, A, C, V)$$\n",
    "\n",
    "> Therefore according to the joint probability in the last question we can write the above expression as\n",
    "\n",
    "$$ \\sum_{H} p (V | R, A, C)\\times p (R) \\times p (A | J) \\times p (J | R, G) \\times p (C | G, H) \\times p (G) \\times p (H)$$\n",
    "\n",
    "$$ p (V | R, A, C)\\times p (R) \\times p (A | J) \\times p (J | R, G) \\times p (G) \\sum_{H} p (C | G, H) \\times p (H)$$"
   ]
  },
  {
   "cell_type": "markdown",
   "metadata": {
    "deletable": true,
    "editable": true
   },
   "source": [
    "### 2\n",
    "\n",
    "> As the only dependent variable on $H$ was $C$, we merely need to omit $H$ and marginalise it in $p (C|H, G)$. This will result in the following $p (C | G)$\n",
    "\n",
    "$$ p (C | G) = \\sum_H\\frac{p (C | G, H) \\times p (H) * p (G)}{p (G)} = \\sum_H p (C | G, H) \\times p (H)$$\n",
    "\n",
    "> Therefore we will eliminate $H$ and calculate $p (C | G)$ by marginalising $H$ using the above formula"
   ]
  },
  {
   "cell_type": "markdown",
   "metadata": {
    "deletable": true,
    "editable": true
   },
   "source": [
    "> And finally we will get\n",
    "\n",
    "\n",
    "$$ p (V | R, A, C)\\times p (R) \\times p (A | J) \\times p (J | R, G) \\times p (G) \\times p (C | G) $$"
   ]
  },
  {
   "cell_type": "markdown",
   "metadata": {
    "deletable": true,
    "editable": true
   },
   "source": [
    "### 3\n",
    "\n",
    "> As it was stated in the last answer, $p (H)$ will not exist in the new network and $p (C | G, H)$ will turn into $p (C | G)$"
   ]
  },
  {
   "cell_type": "code",
   "execution_count": 22,
   "metadata": {
    "collapsed": false,
    "deletable": true,
    "editable": true
   },
   "outputs": [
    {
     "name": "stdout",
     "output_type": "stream",
     "text": [
      "given  ('female',)\n",
      "black :  0.183 \twhite :  0.817 \t\n",
      "given  ('male',)\n",
      "black :  0.893 \twhite :  0.107 \t\n"
     ]
    }
   ],
   "source": [
    "## Marginalise H\n",
    "## This will be our new network\n",
    "ordered_marginalised_H_election = copy.deepcopy (ordered_election)\n",
    "\n",
    "## Get the indices of the random variables we will be using\n",
    "hand_index, colour_index, gender_index, index = None, None, None, 0\n",
    "for rv in ordered_marginalised_H_election.random_variables:\n",
    "    if rv.name == 'hand':\n",
    "        hand_index = index\n",
    "    if rv.name == 'colour':\n",
    "        colour_index = index\n",
    "    if rv.name == 'gender':\n",
    "        gender_index = index\n",
    "    index += 1\n",
    "\n",
    "## marginalise H in p (C | G, H) to derive the new p (C | G)\n",
    "p_color_given_gender = dict ()\n",
    "for gender_outcome in ordered_marginalised_H_election.random_variables [gender_index].outcomes:\n",
    "    p_color_given_gender [(gender_outcome, )] = dict ()\n",
    "    for hand_outcome in ordered_marginalised_H_election.random_variables [hand_index].outcomes:\n",
    "        for colour_outcome in ordered_marginalised_H_election.random_variables [colour_index].outcomes:\n",
    "            if colour_outcome not in p_color_given_gender [(gender_outcome, )]:\n",
    "                p_color_given_gender [(gender_outcome, )][colour_outcome] = 0\n",
    "            p_color_given_gender [(gender_outcome, )][colour_outcome] += \\\n",
    "                ordered_marginalised_H_election.random_variables [colour_index].pmfs [(gender_outcome, hand_outcome)]\\\n",
    "                [colour_outcome]* ordered_marginalised_H_election.random_variables [hand_index].pmfs [()][hand_outcome]\n",
    "                \n",
    "\n",
    "## Print out what we just calculated\n",
    "for gender in p_color_given_gender.keys ():\n",
    "    print ('given ', gender)\n",
    "    for color in p_color_given_gender [gender].keys ():\n",
    "        print (color, ': ', p_color_given_gender [gender][color], '\\t', end = '')\n",
    "    print ()\n",
    "\n",
    "## Now let's change the old network to create the new one\n",
    "# first off, we change the pmfs for the random variable color\n",
    "ordered_marginalised_H_election.random_variables [colour_index].pmfs = p_color_given_gender\n",
    "# python bs. stupid language, annoying type system.\n",
    "ordered_marginalised_H_election.random_variables = list (ordered_marginalised_H_election.random_variables)\n",
    "parents = list (ordered_marginalised_H_election.random_variables [colour_index].parents)\n",
    "# find index of hand in the random variables\n",
    "hand_index = 0\n",
    "for parent in parents:\n",
    "    if parent.name == 'hand':\n",
    "        break\n",
    "    hand_index += 1\n",
    "    \n",
    "# delete it from the parents\n",
    "del parents [hand_index]\n",
    "\n",
    "# We'll need the random variable gender, let's find it then\n",
    "g = None\n",
    "for var in ordered_marginalised_H_election.random_variables [colour_index].parents:\n",
    "    if var.name == 'gender':\n",
    "        g = var\n",
    "        break\n",
    "# In the new network colour has a single parent. i.e. gender\n",
    "ordered_marginalised_H_election.random_variables [colour_index].parents = (g, )\n",
    "\n",
    "# Get rid of hand in the list of random variables\n",
    "# Why +1? python bs.\n",
    "ordered_marginalised_H_election.random_variables.pop (hand_index+1)\n",
    "ordered_marginalised_H_election.random_variables = tuple (ordered_marginalised_H_election.random_variables)\n",
    "# print (ordered_marginalised_H_election.random_variables)"
   ]
  },
  {
   "cell_type": "code",
   "execution_count": 23,
   "metadata": {
    "collapsed": false,
    "deletable": true,
    "editable": true,
    "scrolled": false
   },
   "outputs": [
    {
     "name": "stdout",
     "output_type": "stream",
     "text": [
      "Marginal probabilities for our new network => theoretical\n",
      "age : \n",
      "new :  0.276229  \tworn :  0.594242  \told :  0.129529  \t\n",
      "\n",
      "vote : \n",
      "bernie :  0.15481761532  \tted :  0.20465624916  \thillary :  0.29550527822  \tdonald :  0.3450208573  \t\n",
      "\n",
      "colour : \n",
      "black :  0.396  \twhite :  0.604  \t\n",
      "\n",
      "region : \n",
      "south :  0.1  \teast :  0.5  \twest :  0.2  \tnorth :  0.2  \t\n",
      "\n",
      "jacket : \n",
      "part :  0.0882  \tfull :  0.2827  \tnever :  0.6291  \t\n",
      "\n",
      "gender : \n",
      "female :  0.7  \tmale :  0.3  \t\n",
      "\n"
     ]
    }
   ],
   "source": [
    "# Call the function, let's print it in a human readable but ugly format\n",
    "print ('Marginal probabilities for our new network => theoretical')\n",
    "marginal = calculate_marginal_network (ordered_marginalised_H_election)\n",
    "for rv in marginal.keys ():\n",
    "    print (rv, ': ')\n",
    "    for marg in marginal [rv].keys ():\n",
    "        print (marg,': ', marginal [rv][marg], ' \\t', end='')\n",
    "    print ('\\n')"
   ]
  },
  {
   "cell_type": "markdown",
   "metadata": {
    "deletable": true,
    "editable": true
   },
   "source": [
    "### 1B7 (3 marks) General estimation of conditional probabilities (revisited)\n",
    "\n",
    "1. As you did earlier, compute and display in a human friendly format the conditional distributions $p(G=g \\,|\\, V=v)$ for all genders $g$ and votes $v$, by naively marginalising the other variables (other than $G$ and $V$, that is). This time however, do so using $\\mathcal{M}_H$ rather than $\\mathcal{M}$.\n",
    "- Quantify the computational advantages of using $\\mathcal{M}_H$ in this way rather than $\\mathcal{M}$.\n",
    "- Which variable (or variables) would be the best to eliminate in this way, in terms of the aforementioned computational advantages, and why?\n",
    "- Pick a (best) variable from the previous question and call it $X$. Assuming we have eliminated $X$, which would be the \"best\" variable to subsequently eliminate in a similar fashion?"
   ]
  },
  {
   "cell_type": "code",
   "execution_count": 24,
   "metadata": {
    "collapsed": true,
    "deletable": true,
    "editable": true
   },
   "outputs": [],
   "source": [
    "import time"
   ]
  },
  {
   "cell_type": "code",
   "execution_count": 25,
   "metadata": {
    "collapsed": false,
    "deletable": true,
    "editable": true
   },
   "outputs": [
    {
     "name": "stdout",
     "output_type": "stream",
     "text": [
      "New network - time :  0.07245254516601562\n",
      "Normal network - time :  0.1189732551574707\n",
      "-----------------\n",
      "given  bernie\n",
      "probability of  {'female': 0.60186700981928043, 'male': 0.3981329901807199}\n",
      "\n",
      "given  ted\n",
      "probability of  {'female': 0.72156242458323416, 'male': 0.27843757541676628}\n",
      "\n",
      "given  hillary\n",
      "probability of  {'female': 0.63644447007130023, 'male': 0.36355552992870016}\n",
      "\n",
      "given  donald\n",
      "probability of  {'female': 0.78567837136378282, 'male': 0.21432162863621748}\n",
      "\n"
     ]
    }
   ],
   "source": [
    "t0 = time.time ()\n",
    "ordered_marg_H = calculate_p_g_given_v (ordered_marginalised_H_election)\n",
    "print ('New network - time : ', time.time () - t0)\n",
    "\n",
    "t0 = time.time ()\n",
    "calculate_p_g_given_v (ordered_election)\n",
    "print ('Normal network - time : ',time.time () - t0)\n",
    "print ('-----------------')\n",
    "for item in ordered_marg_H.keys ():\n",
    "    print ('given ', item)\n",
    "    print ('probability of ', g_given_v [item])\n",
    "    print ()"
   ]
  },
  {
   "cell_type": "markdown",
   "metadata": {
    "deletable": true,
    "editable": true
   },
   "source": [
    "> As we can see and we expected, the results are the same and the time is reduced by 40%."
   ]
  },
  {
   "cell_type": "markdown",
   "metadata": {
    "deletable": true,
    "editable": true
   },
   "source": [
    "### 2\n",
    "> To calculate $p (G | V)$ the naive way, we carry out the following operations.\n",
    "\n",
    "[\\\\]: <> (> We change the probabilities for genders based on what is given to us.  *trivial*)\n",
    "\n",
    "\n",
    "[\\\\]: <> (> \\# of possible genders * (go through all combinations of all variables [perform addition] ** (\\# of random variables)))"
   ]
  },
  {
   "cell_type": "markdown",
   "metadata": {
    "deletable": true,
    "editable": true
   },
   "source": [
    "> Go through all possible genders\n",
    "\n",
    "        >> Go through all combinations of random variables\n",
    "        \n",
    "        >>> Perform an addition\n",
    "        \n",
    "            >>>> Perform r multiplications where r is the number of random variables"
   ]
  },
  {
   "cell_type": "markdown",
   "metadata": {
    "deletable": true,
    "editable": true
   },
   "source": [
    "> Therefore using $\\mathcal{M}_H$ will result in:\n",
    "\n",
    "> - 1 fewer random variable\n",
    "> - new # of combinations = \\# of combinations/# of outcomes of $H$"
   ]
  },
  {
   "cell_type": "markdown",
   "metadata": {
    "deletable": true,
    "editable": true
   },
   "source": [
    "> Therefore, the best variable to eliminate first to reduce the time complexity and not just shift the complexity into the marginalisation will be the variable with the least number of random variables associated with it. "
   ]
  },
  {
   "cell_type": "markdown",
   "metadata": {
    "deletable": true,
    "editable": true
   },
   "source": [
    "> By association, we mean *parents of a node*, *its children*, and *its children's parents*."
   ]
  },
  {
   "cell_type": "markdown",
   "metadata": {
    "deletable": true,
    "editable": true
   },
   "source": [
    "> For instance, in the above example\n",
    "\n",
    "$$ \\sum_{H, R, J, A, C} p (V | R, A, C)\\times p (R) \\times p (A | J) \\times p (J | R, G) \\times p (C | G, H) \\times p (G) \\times p (H) $$\n",
    "\n",
    "> turns in to\n",
    "\n",
    "$$ \\sum_{R, J, A, C} p (V | R, A, C)\\times p (R) \\times p (A | J) \\times p (J | R, G) \\times  p (G) \\times \\sum_{H}p (C | G, H) \\times p (H) $$"
   ]
  },
  {
   "cell_type": "markdown",
   "metadata": {
    "deletable": true,
    "editable": true
   },
   "source": [
    "> As we can see, $H$ has $2$ associated random variables; namely $G$ and $C$."
   ]
  },
  {
   "cell_type": "markdown",
   "metadata": {
    "deletable": true,
    "editable": true
   },
   "source": [
    "> By using the distributive law and pushing in the sum we are only carrying it out $n$ times where $n$ is the possible combinations of $G$, and $C$ rather than the above example in which this sum will be carried out as many times as the number of all possible combinations of $R$, $J$, $A$, $C$, $G$."
   ]
  },
  {
   "cell_type": "markdown",
   "metadata": {
    "deletable": true,
    "editable": true
   },
   "source": [
    "### 3\n",
    "> As we stated before, we can express our model using the following probabilities:\n",
    "\n",
    "$$ \\sum_{R, J, A, C, H} p (V | R, A, C)\\times p (R) \\times p (A | J) \\times p (J | R, G) \\times  p (G) \\times p (C | G, H) \\times p (H) $$"
   ]
  },
  {
   "cell_type": "markdown",
   "metadata": {
    "deletable": true,
    "editable": true
   },
   "source": [
    "> Looking for the variable with the least number of associated random variables and excluding $V$ and $G$, $H$ will be the best choice as it has the lowest number of random variables associated with it]; As we can see $H$ is only associated with $C$, and $G$. Other possible variables have the following associated variables.\n",
    "\n",
    "$$R: V, A, C, J, G$$\n",
    "$$A: R, C, V, J$$\n",
    "$$C: R, V, A, G$$\n",
    "$$J: A, R, G $$\n",
    "\n",
    "> In other words the number of combinations will only depend on the outcomes of $H$, $C$, and $G$; therefore we can push the sum in only over what is relevant. Isolating the above variables and performing\n",
    "\n",
    "$$ \\sum_{R, J, A, C} p (V | R, A, C)\\times p (R) \\times p (A | J) \\times p (J | R, G) \\times  p (G) \\times \\sum_{H}p (C | G, H) \\times p (H) $$\n",
    "\n",
    "> will result in a reduction in the number of operations performed to calculate the probabilities and is similar to applying the distributive law to a simple sum of products where the first factor is the same."
   ]
  },
  {
   "cell_type": "markdown",
   "metadata": {
    "deletable": true,
    "editable": true
   },
   "source": [
    "[\\\\]: <> (> As a result, we will get the following model for our joint distribution)\n",
    "\n",
    "[\\\\]: <> ($$ \\sum_{R, A, C} p (V | R, A, C)\\times p (R) \\times  p (G) \\times p (C | G) \\times \\sum_{J} p (A | J) \\times p (J | R, G)$$)"
   ]
  },
  {
   "cell_type": "markdown",
   "metadata": {
    "deletable": true,
    "editable": true
   },
   "source": [
    "### 4\n",
    "> After eliminating $H$, we will have a new $p (C | G)$ and our model can be expressed as:\n",
    "\n",
    "$$ \\sum_{R, J, A, C} p (V | R, A, C)\\times p (R) \\times p (A | J) \\times p (J | R, G) \\times  p (G) \\times p (C | G)$$\n",
    "\n",
    "> As it was mentioned before, we are aiming at marginalising the variable that lets up push the sums in as far as possible. Such variable can be found by looking at the number of associated random variables with them and choosing the variable with the fewest associated variables.\n",
    "\n"
   ]
  },
  {
   "cell_type": "markdown",
   "metadata": {
    "deletable": true,
    "editable": true
   },
   "source": [
    "> We saw that the next node with the least number of associated random variables is $J$. Therefore, by eliminating it and paying for the cost of marginalisation, we avoid redundant calculations (calculating the same thing more than once) and reduce our number of operations the most."
   ]
  },
  {
   "cell_type": "markdown",
   "metadata": {
    "deletable": true,
    "editable": true
   },
   "source": [
    "## Part 2: Theory"
   ]
  },
  {
   "cell_type": "markdown",
   "metadata": {
    "deletable": true,
    "editable": true
   },
   "source": [
    "### 2A (3 marks) Functions of random variables\n",
    "\n",
    "$u$ and $v$ are independently sampled from the standard uniform distribution on the unit interval, $[0,1]$. \n",
    "\n",
    "If $s=(2u-1)^2+(2v-1)^2 \\geq 1$ then $x$ is sampled from the standard normal distribution, $\\mathcal{N}(0,1)$. Otherwise $x=(2u-1)\\sqrt{-2 \\log(s)/s}$.\n",
    "\n",
    "How is $x$ distributed?"
   ]
  },
  {
   "cell_type": "markdown",
   "metadata": {
    "deletable": true,
    "editable": true
   },
   "source": [
    "### Solution description\n",
    "\n",
    "> We want to prove that the two distributions are sampled from the same distribution to show that $p (x \\sim \\mathcal{N}(0, 1))$\n",
    "\n",
    "> It is given to us that $p (x |  >= 1) \\sim \\mathcal{N}$ and we need to show\n",
    "\n",
    "$$p (x | s < 1) \\sim \\mathcal{N}$$\n",
    "\n",
    "> We know that the joint distribution of $x$ and $y$ is given by:\n",
    "\n",
    "$$p (x, y) = P (U, V) |\\frac{d(U, V)}{d (x, y)}|$$"
   ]
  },
  {
   "cell_type": "markdown",
   "metadata": {},
   "source": [
    "> And by plugging in the chain rule we can get\n",
    "\n",
    "$$ p (x, y) = p (U, V)|\\frac{dUdV}{drd\\theta}\\frac{drd\\theta}{dxdy}|$$"
   ]
  },
  {
   "cell_type": "markdown",
   "metadata": {},
   "source": [
    "> And according to *http://tutorial.math.lamar.edu/Classes/CalcIII/ChangeOfVariables.aspx* using the standard jacobian for conversion to polar coordinates"
   ]
  },
  {
   "cell_type": "markdown",
   "metadata": {},
   "source": [
    "> The above expresiion is equal to\n",
    "\n",
    "$$ \\frac{1}{\\pi}\\times r\\times\\frac{r}{2}$$"
   ]
  },
  {
   "cell_type": "markdown",
   "metadata": {},
   "source": [
    "> To prove that out random variable is distributed normally, we introduce the new random variable $Y$, as well as $U$, and $V$ where"
   ]
  },
  {
   "cell_type": "markdown",
   "metadata": {},
   "source": [
    "$$U (u) = 2i - 1$$\n",
    "\n",
    "$$V (v) = 2v - 1$$"
   ]
  },
  {
   "cell_type": "markdown",
   "metadata": {},
   "source": [
    "> And in polar coordinates, we have\n",
    "\n",
    "$$ U (r, \\theta) = r\\cos{\\theta}$$\n",
    "$$ V (t, \\theta) = r\\sin{\\theta}$$"
   ]
  },
  {
   "cell_type": "markdown",
   "metadata": {},
   "source": [
    "> Hence, we can rewrite out $x$ and $y$ as:\n",
    "\n",
    "$$ x = U \\frac{\\sqrt{-2\\log{(U^2 + V^2)}}}{U^2 + V^2} = U \\frac{\\sqrt{-2 \\log{r^2}}}{r^2}$$"
   ]
  },
  {
   "cell_type": "markdown",
   "metadata": {},
   "source": [
    "$$ y = V \\frac{\\sqrt{-2 \\log{r^2}}}{r^2}$$"
   ]
  },
  {
   "cell_type": "markdown",
   "metadata": {},
   "source": [
    "> Since $S$ describes a circle, we know that its density is $\\frac{1}{\\pi}$. i.e. $p (U, V) = \\frac{1}{\\pi}$"
   ]
  },
  {
   "cell_type": "markdown",
   "metadata": {},
   "source": [
    "> Hence\n",
    "\n",
    "$$ P (x, y | s < 1) = \\frac{r^2}{2\\pi}$$"
   ]
  },
  {
   "cell_type": "markdown",
   "metadata": {},
   "source": [
    "$$p (x, y| s < 1) = \\int_{-\\inf}^{\\inf} \\frac{1}{2\\pi}e ^{\\frac{-x^2+y^2}{2}}dy$$"
   ]
  },
  {
   "cell_type": "markdown",
   "metadata": {},
   "source": [
    "$$ p (x, y | s < 1) = \\frac{1}{\\sqrt{2 \\pi}}e^{\\frac{-x^2}{2}}\\int_{-\\inf}^{\\inf}e^\\frac{-y^2}{2}dy$$"
   ]
  },
  {
   "cell_type": "markdown",
   "metadata": {},
   "source": [
    "> And finally by marginalising $y$, we get\n",
    "\n",
    "$$ p (x | s < 1) = \\frac{1}{\\sqrt{2\\pi}}e^{\\frac{-x^2}{2}}$$"
   ]
  },
  {
   "cell_type": "markdown",
   "metadata": {},
   "source": [
    "> Which is a gausian and therefore\n",
    "\n",
    "$$ p (x) \\sim \\mathcal{N}(0, 1)$$"
   ]
  }
 ],
 "metadata": {
  "kernelspec": {
   "display_name": "Python 3",
   "language": "python",
   "name": "python3"
  },
  "language_info": {
   "codemirror_mode": {
    "name": "ipython",
    "version": 3
   },
   "file_extension": ".py",
   "mimetype": "text/x-python",
   "name": "python",
   "nbconvert_exporter": "python",
   "pygments_lexer": "ipython3",
   "version": "3.5.2"
  }
 },
 "nbformat": 4,
 "nbformat_minor": 0
}
